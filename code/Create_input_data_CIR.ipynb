{
 "cells": [
  {
   "cell_type": "code",
   "execution_count": 1,
   "id": "c15d3da8",
   "metadata": {},
   "outputs": [],
   "source": [
    "import pandas as pd\n",
    "import numpy as np\n",
    "import covidcast\n",
    "from datetime import date, datetime, timedelta\n",
    "import os"
   ]
  },
  {
   "cell_type": "code",
   "execution_count": 2,
   "id": "9ea78b05",
   "metadata": {},
   "outputs": [],
   "source": [
    "os.chdir('/Users/hongrudu/Desktop/COVID_Vaccination_rate/data/raw_data')"
   ]
  },
  {
   "cell_type": "code",
   "execution_count": 3,
   "id": "80d04e95",
   "metadata": {},
   "outputs": [],
   "source": [
    "def perdelta(start, end, delta):\n",
    "    curr = start\n",
    "    while curr < end:\n",
    "        yield curr\n",
    "        curr += delta"
   ]
  },
  {
   "cell_type": "code",
   "execution_count": 4,
   "id": "5881924b",
   "metadata": {},
   "outputs": [],
   "source": [
    "def create_relative(df, col):\n",
    "    df_ref = df[['Week_Mon', col]].groupby(['Week_Mon']).mean().reset_index()\n",
    "    df_ref = df_ref.rename(columns = {col : 'ref'})\n",
    "    df = df.merge(df_ref, left_on = ['Week_Mon'], right_on = ['Week_Mon'])\n",
    "    df['Relative_' + col] = df[col]/df['ref']\n",
    "    df = df.drop(columns = ['ref'])\n",
    "    return df"
   ]
  },
  {
   "cell_type": "code",
   "execution_count": 6,
   "id": "d2970f2e",
   "metadata": {},
   "outputs": [],
   "source": [
    "cases = pd.read_pickle('Weekly_cases.pkl')\n",
    "hospitalized = pd.read_pickle('Weekly_hospitalization.pkl')\n",
    "df = hospitalized.merge(cases)\n",
    "#### Smooth data\n",
    "for fips in df['FIPS'].unique():\n",
    "    df.loc[df[df['FIPS'] == fips].index, ['Cases']] =\\\n",
    "    df[df['FIPS'] == fips][['Cases']].rolling(window = 3).mean()\n",
    "df = df.dropna().reset_index().drop(columns = ['index'])\n",
    "\n",
    "for fips in df['FIPS'].unique():\n",
    "    df.loc[df[df['FIPS'] == fips].index, ['Cases_lag1']] =\\\n",
    "    df[df['FIPS'] == fips]['Cases'].shift(2)\n",
    "df = df.dropna().reset_index().drop(columns = ['index'])\n",
    "df['IHR_lag1'] = df['hospitalized']/df['Cases_lag1']\n",
    "for fips in df['FIPS'].unique():\n",
    "    df.loc[df[df['FIPS'] == fips].index, ['IHR_lag1']] =\\\n",
    "    df[df['FIPS'] == fips][['IHR_lag1']].rolling(window = 3).mean()\n",
    "    \n",
    "pop = pd.read_pickle('State_population.pkl')\n",
    "df = pop.merge(df)"
   ]
  },
  {
   "cell_type": "code",
   "execution_count": 7,
   "id": "d42618ab",
   "metadata": {},
   "outputs": [],
   "source": [
    "#### Vaccine Data\n",
    "vaccine = pd.read_pickle('Weekly_vaccination.pkl')\n",
    "df = df.merge(vaccine)\n",
    "for i in vaccine.columns[2:]:\n",
    "    df[i] = df[i]/df['Population']\n",
    "for i in vaccine.columns[2:]:\n",
    "    df[i] = df[i]/7"
   ]
  },
  {
   "cell_type": "code",
   "execution_count": 8,
   "id": "4f6354b5",
   "metadata": {},
   "outputs": [],
   "source": [
    "for fips in ['35', '42']:\n",
    "    df.loc[df[df['FIPS'] == fips].index, ['People_fully_vaccinated']] =\\\n",
    "    df[df['FIPS'] == fips][['People_fully_vaccinated']].rolling(window = 3).mean()\n",
    "    \n",
    "##### Policy data\n",
    "policy = pd.read_pickle('Weekly_policy.pkl')\n",
    "df = df.merge(policy)\n",
    "\n",
    "###### Testing data\n",
    "test = pd.read_pickle('Weekly_testing.pkl')\n",
    "test.Weekly_testing = test.Weekly_testing.mask(test.Weekly_testing.lt(0),np.nan)\n",
    "test['Weekly_testing'] = test['Weekly_testing'].interpolate(method='linear')\n",
    "df = df.merge(test)\n",
    "for i in test.columns[2:]:\n",
    "    df[i] = df[i]/df['Population']\n",
    "for fips in df['FIPS'].unique():\n",
    "    df.loc[df[df['FIPS'] == fips].index, ['Weekly_testing']] =\\\n",
    "    df[df['FIPS'] == fips][['Weekly_testing']].rolling(window = 3).mean()"
   ]
  },
  {
   "cell_type": "code",
   "execution_count": 10,
   "id": "868f64d0",
   "metadata": {},
   "outputs": [],
   "source": [
    "#### Past infections\n",
    "past_inf = pd.read_pickle('Weekly_past_infection.pkl')\n",
    "df = df.merge(past_inf)\n",
    "for i in past_inf.columns[2:]:\n",
    "    df[i] = df[i]/df['Population']"
   ]
  },
  {
   "cell_type": "code",
   "execution_count": 11,
   "id": "a63c2c3a",
   "metadata": {},
   "outputs": [],
   "source": [
    "df['CIR'] = df['Cases']/df['Population']"
   ]
  },
  {
   "cell_type": "code",
   "execution_count": 12,
   "id": "63dbcd7f",
   "metadata": {},
   "outputs": [],
   "source": [
    "\n",
    "##### Add lags\n",
    "\n",
    "for col in ['People_at_least_one_dose', 'People_fully_vaccinated',\n",
    "       'Total_additional_doses', 'GovernmentResponseIndex_Average',\n",
    "       'Weekly_testing']:\n",
    "    for fips in df['FIPS'].unique():\n",
    "         df.loc[df[df['FIPS'] == fips].index, col + '_lag1'] =\\\n",
    "         df[df['FIPS'] == fips][col].shift(1)\n",
    "\n",
    "for col in ['Past_16_week_infections', 'Past_12_week_infections',\n",
    "       'Past_20_week_infections', 'Past_24_week_infections']:\n",
    "    for fips in df['FIPS'].unique():\n",
    "         df.loc[df[df['FIPS'] == fips].index, col + '_lag3'] =\\\n",
    "         df[df['FIPS'] == fips][col].shift(3)"
   ]
  },
  {
   "cell_type": "code",
   "execution_count": 13,
   "id": "bcf6b1c6",
   "metadata": {},
   "outputs": [],
   "source": [
    "df = df[~df['FIPS'].isin(['33', '54'])].reset_index().drop(columns = ['index'])"
   ]
  },
  {
   "cell_type": "code",
   "execution_count": 14,
   "id": "35433943",
   "metadata": {},
   "outputs": [],
   "source": [
    "df_selected = df[['FIPS', 'Week_Mon',  'CIR','People_at_least_one_dose_lag1', 'People_fully_vaccinated_lag1',\n",
    "       'Total_additional_doses_lag1', 'GovernmentResponseIndex_Average_lag1',\n",
    "       'Weekly_testing_lag1', 'Past_16_week_infections_lag3',\n",
    "       'Past_12_week_infections_lag3', 'Past_20_week_infections_lag3',\n",
    "       'Past_24_week_infections_lag3']]"
   ]
  },
  {
   "cell_type": "code",
   "execution_count": 15,
   "id": "55f88590",
   "metadata": {},
   "outputs": [],
   "source": [
    "for col in df_selected.columns[2:]:\n",
    "    df_selected = create_relative(df_selected, col)"
   ]
  },
  {
   "cell_type": "code",
   "execution_count": 16,
   "id": "4916fd39",
   "metadata": {},
   "outputs": [],
   "source": [
    "mobility = pd.read_pickle('Weekly_activity_level.pkl')\n",
    "mobility['Week_Mon'] = pd.to_datetime(mobility['Week_Mon'])\n",
    "for fips in mobility['FIPS'].unique():\n",
    "    mobility.iloc[mobility[mobility['FIPS'] == fips].index,2:] =\\\n",
    "    mobility[mobility['FIPS'] == fips].iloc[:, 2:].rolling(window = 3).mean()"
   ]
  },
  {
   "cell_type": "code",
   "execution_count": 17,
   "id": "4fcd2441",
   "metadata": {},
   "outputs": [],
   "source": [
    "df_selected = df_selected.merge(mobility, how = 'left')\n",
    "for col in mobility.columns[2:]:\n",
    "    for fips in df_selected['FIPS'].unique():\n",
    "         df_selected.loc[df_selected[df_selected['FIPS'] == fips].index, col + '_lag1'] =\\\n",
    "         df_selected[df_selected['FIPS'] == fips][col].shift(1)"
   ]
  },
  {
   "cell_type": "code",
   "execution_count": 18,
   "id": "df632cab",
   "metadata": {},
   "outputs": [],
   "source": [
    "df_selected = df_selected[['FIPS', 'Week_Mon', 'Relative_CIR',\n",
    "                           'Relative_People_at_least_one_dose_lag1',\n",
    "       'Relative_People_fully_vaccinated_lag1',\n",
    "       'Relative_Total_additional_doses_lag1',\n",
    "       'Relative_GovernmentResponseIndex_Average_lag1',\n",
    "       'Relative_Weekly_testing_lag1', 'Relative_Past_16_week_infections_lag3',\n",
    "       'Relative_Past_12_week_infections_lag3',\n",
    "       'Relative_Past_20_week_infections_lag3',\n",
    "       'Relative_Past_24_week_infections_lag3',\n",
    "       'limited_service_restaurant_lag1', 'elementary_school_lag1',\n",
    "       'other_general_store_lag1', 'gas_station_lag1', 'gym_lag1',\n",
    "       'cafes_snack_bar_lag1', 'religious_organization_lag1', 'parks_lag1',\n",
    "       'hardware_store_lag1', 'department_store_lag1', 'child_day_care_lag1',\n",
    "       'office_of_physician_lag1', 'pharmacies_lag1',\n",
    "       'sporting_goods_store_lag1', 'automotive_store_lag1',\n",
    "       'used_merchandise_store_lag1', 'convenience_store_lag1',\n",
    "       'grocery_store_lag1', 'full_service_restaurant_lag1', 'hotel_lag1',\n",
    "       'University_lag1']]"
   ]
  },
  {
   "cell_type": "code",
   "execution_count": 19,
   "id": "857026e7",
   "metadata": {},
   "outputs": [],
   "source": [
    "for col in ['limited_service_restaurant_lag1', 'elementary_school_lag1',\n",
    "       'other_general_store_lag1', 'gas_station_lag1', 'gym_lag1',\n",
    "       'cafes_snack_bar_lag1', 'religious_organization_lag1', 'parks_lag1',\n",
    "       'hardware_store_lag1', 'department_store_lag1', 'child_day_care_lag1',\n",
    "       'office_of_physician_lag1', 'pharmacies_lag1',\n",
    "       'sporting_goods_store_lag1', 'automotive_store_lag1',\n",
    "       'used_merchandise_store_lag1', 'convenience_store_lag1',\n",
    "       'grocery_store_lag1', 'full_service_restaurant_lag1', 'hotel_lag1',\n",
    "       'University_lag1']:\n",
    "    df_selected = create_relative(df_selected, col)"
   ]
  },
  {
   "cell_type": "code",
   "execution_count": 20,
   "id": "986169d3",
   "metadata": {},
   "outputs": [],
   "source": [
    "df_selected = df_selected[['FIPS', 'Week_Mon', 'Relative_CIR', \n",
    "                           'Relative_People_at_least_one_dose_lag1',\n",
    "       'Relative_People_fully_vaccinated_lag1',\n",
    "       'Relative_Total_additional_doses_lag1',\n",
    "       'Relative_GovernmentResponseIndex_Average_lag1',\n",
    "       'Relative_Weekly_testing_lag1', 'Relative_Past_16_week_infections_lag3',\n",
    "       'Relative_Past_12_week_infections_lag3',\n",
    "       'Relative_Past_20_week_infections_lag3',\n",
    "       'Relative_Past_24_week_infections_lag3',\n",
    "       'Relative_limited_service_restaurant_lag1',\n",
    "       'Relative_elementary_school_lag1', 'Relative_other_general_store_lag1',\n",
    "       'Relative_gas_station_lag1', 'Relative_gym_lag1',\n",
    "       'Relative_cafes_snack_bar_lag1', 'Relative_religious_organization_lag1',\n",
    "       'Relative_parks_lag1', 'Relative_hardware_store_lag1',\n",
    "       'Relative_department_store_lag1', 'Relative_child_day_care_lag1',\n",
    "       'Relative_office_of_physician_lag1', 'Relative_pharmacies_lag1',\n",
    "       'Relative_sporting_goods_store_lag1', 'Relative_automotive_store_lag1',\n",
    "       'Relative_used_merchandise_store_lag1',\n",
    "       'Relative_convenience_store_lag1', 'Relative_grocery_store_lag1',\n",
    "       'Relative_full_service_restaurant_lag1', 'Relative_hotel_lag1',\n",
    "       'Relative_University_lag1']]"
   ]
  },
  {
   "cell_type": "code",
   "execution_count": 21,
   "id": "39a8b7c4",
   "metadata": {},
   "outputs": [],
   "source": [
    "genomic = pd.read_pickle('Weekly_genomic.pkl')\n",
    "genomic['Week_Mon'] = pd.to_datetime(genomic['Week_Mon'])\n",
    "df_selected = df_selected.merge(genomic)\n",
    "df_selected['Dominant_variant'] = df_selected['Dominant_variant'].replace({'Alpha' : 'Others'})"
   ]
  },
  {
   "cell_type": "code",
   "execution_count": 22,
   "id": "0252cf62",
   "metadata": {},
   "outputs": [],
   "source": [
    "static = pd.read_pickle('Static_data.pkl')\n",
    "df_selected = df_selected.merge(static)"
   ]
  },
  {
   "cell_type": "code",
   "execution_count": 23,
   "id": "fc0d6fb0",
   "metadata": {},
   "outputs": [],
   "source": [
    "df_selected = df_selected[df_selected['Week_Mon']>='2021-03-01'].reset_index().drop(columns = ['index'])\n",
    "df_selected = df_selected[df_selected['Week_Mon']<='2022-03-01'].reset_index().drop(columns = ['index'])\n",
    "df_selected['medicaid_spending'] = df_selected['medicaid_spending']/1000"
   ]
  },
  {
   "cell_type": "code",
   "execution_count": 24,
   "id": "2adda37a",
   "metadata": {},
   "outputs": [],
   "source": [
    "df_selected = df_selected[['FIPS', 'Week_Mon', 'Relative_CIR',\n",
    "       'Relative_People_at_least_one_dose_lag1',\n",
    "       'Relative_People_fully_vaccinated_lag1',\n",
    "       'Relative_Total_additional_doses_lag1',\n",
    "       'Relative_GovernmentResponseIndex_Average_lag1',\n",
    "       'Relative_Weekly_testing_lag1', 'Relative_Past_16_week_infections_lag3',\n",
    "       'Relative_Past_12_week_infections_lag3',\n",
    "       'Relative_Past_20_week_infections_lag3',\n",
    "       'Relative_Past_24_week_infections_lag3', 'Relative_University_lag1',\n",
    "       'Relative_full_service_restaurant_lag1','Relative_gas_station_lag1',\n",
    "       'Relative_gym_lag1',\n",
    "       'Relative_religious_organization_lag1',\n",
    "       'Relative_office_of_physician_lag1','over_65',\n",
    "       'Black', 'medicaid_spending', 'health_care_spending', 'poverty_rate',\n",
    "       'social_vulnerability_index',\n",
    "       'Healthcare Access and Quality Index', 'rep_voters',\n",
    "       'Adults_at_high_risk', 'Dominant_variant']]"
   ]
  },
  {
   "cell_type": "code",
   "execution_count": 25,
   "id": "ec29d204",
   "metadata": {},
   "outputs": [],
   "source": [
    "df_selected = df_selected.rename(columns = {'Relative_CIR' : 'RCIR'})\n",
    "df_selected = df_selected.rename(columns = {'Relative_People_at_least_one_dose_lag1' : 'RPVR_lag1',\n",
    "                             'Relative_People_fully_vaccinated_lag1' : 'RCPSR_lag1',\n",
    "                             'Relative_Total_additional_doses_lag1' : 'RBVR_lag1',\n",
    "                             'Relative_GovernmentResponseIndex_Average_lag1' : 'RGP_lag1',\n",
    "                             'Relative_Weekly_testing_lag1' : 'RWTR_lag1',\n",
    "                             'Relative_Past_12_week_infections_lag3' : 'RPI_12_Weeks_lag3',\n",
    "                             'Relative_Past_16_week_infections_lag3' : 'RPI_16_Weeks_lag3',\n",
    "                             'Relative_Past_20_week_infections_lag3' : 'RPI_20_Weeks_lag3',\n",
    "                             'Relative_Past_24_week_infections_lag3' : 'RPI_24_Weeks_lag3',\n",
    "                             'Relative_University_lag1' : 'RUV_lag1',\n",
    "                            'Relative_full_service_restaurant_lag1' : 'RFSRV_lag1',\n",
    "                             'Relative_gas_station_lag1' : 'RGSV_lag1',\n",
    "                             'Relative_gym_lag1' : 'RGV_lag1', \n",
    "                             'Relative_religious_organization_lag1' : 'RROV_lag1',\n",
    "                             'Relative_office_of_physician_lag1' : 'ROPV_lag1',\n",
    "                             'Healthcare Access and Quality Index' : 'HAQI',\n",
    "                             'social_vulnerability_index' : 'SVI'})"
   ]
  },
  {
   "cell_type": "code",
   "execution_count": 26,
   "id": "bdd17677",
   "metadata": {},
   "outputs": [],
   "source": [
    "df_selected.to_csv('/Users/hongrudu/Desktop/COVID_Vaccination_rate/data/processed_data/CIR_input.csv')"
   ]
  },
  {
   "cell_type": "code",
   "execution_count": null,
   "id": "095330d6",
   "metadata": {},
   "outputs": [],
   "source": []
  }
 ],
 "metadata": {
  "kernelspec": {
   "display_name": "Python 3 (ipykernel)",
   "language": "python",
   "name": "python3"
  },
  "language_info": {
   "codemirror_mode": {
    "name": "ipython",
    "version": 3
   },
   "file_extension": ".py",
   "mimetype": "text/x-python",
   "name": "python",
   "nbconvert_exporter": "python",
   "pygments_lexer": "ipython3",
   "version": "3.9.17"
  }
 },
 "nbformat": 4,
 "nbformat_minor": 5
}
