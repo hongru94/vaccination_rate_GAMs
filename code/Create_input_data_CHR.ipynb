{
 "cells": [
  {
   "cell_type": "code",
   "execution_count": 5,
   "id": "765ac6d6",
   "metadata": {},
   "outputs": [],
   "source": [
    "import pandas as pd\n",
    "import numpy as np\n",
    "import covidcast\n",
    "from datetime import date, datetime, timedelta\n",
    "import os\n"
   ]
  },
  {
   "cell_type": "code",
   "execution_count": 6,
   "id": "3a32cd2c",
   "metadata": {},
   "outputs": [],
   "source": [
    "os.chdir('/Users/hongrudu/Desktop/COVID_Vaccination_rate/data/raw_data')"
   ]
  },
  {
   "cell_type": "code",
   "execution_count": 7,
   "id": "781397cb",
   "metadata": {},
   "outputs": [],
   "source": [
    "def perdelta(start, end, delta):\n",
    "    curr = start\n",
    "    while curr < end:\n",
    "        yield curr\n",
    "        curr += delta"
   ]
  },
  {
   "cell_type": "code",
   "execution_count": 8,
   "id": "325a9a91",
   "metadata": {},
   "outputs": [],
   "source": [
    "def create_relative(df, col):\n",
    "    df_ref = df[['Week_Mon', col]].groupby(['Week_Mon']).mean().reset_index()\n",
    "    df_ref = df_ref.rename(columns = {col : 'ref'})\n",
    "    df = df.merge(df_ref, left_on = ['Week_Mon'], right_on = ['Week_Mon'])\n",
    "    df['Relative_' + col] = df[col]/df['ref']\n",
    "    df = df.drop(columns = ['ref'])\n",
    "    return df"
   ]
  },
  {
   "cell_type": "code",
   "execution_count": 9,
   "id": "97c88b90",
   "metadata": {},
   "outputs": [],
   "source": [
    "cases = pd.read_pickle('Weekly_cases.pkl')\n",
    "hospitalized = pd.read_pickle('Weekly_hospitalization.pkl')\n",
    "df = hospitalized.merge(cases)\n",
    "#### Smooth data\n",
    "for fips in df['FIPS'].unique():\n",
    "    df.loc[df[df['FIPS'] == fips].index, ['Cases']] =\\\n",
    "    df[df['FIPS'] == fips][['Cases']].rolling(window = 3).mean()\n",
    "df = df.dropna().reset_index().drop(columns = ['index'])"
   ]
  },
  {
   "cell_type": "code",
   "execution_count": 10,
   "id": "b8901e77",
   "metadata": {},
   "outputs": [],
   "source": [
    "for fips in df['FIPS'].unique():\n",
    "    df.loc[df[df['FIPS'] == fips].index, ['Cases_lag1']] =\\\n",
    "    df[df['FIPS'] == fips]['Cases'].shift(2)\n",
    "df = df.dropna().reset_index().drop(columns = ['index'])\n",
    "df['IHR_lag1'] = df['hospitalized']/df['Cases_lag1']\n",
    "for fips in df['FIPS'].unique():\n",
    "    df.loc[df[df['FIPS'] == fips].index, ['IHR_lag1']] =\\\n",
    "    df[df['FIPS'] == fips][['IHR_lag1']].rolling(window = 3).mean()"
   ]
  },
  {
   "cell_type": "code",
   "execution_count": 11,
   "id": "d38a45f7",
   "metadata": {},
   "outputs": [],
   "source": [
    "pop = pd.read_pickle('State_population.pkl')\n",
    "df = pop.merge(df)"
   ]
  },
  {
   "cell_type": "code",
   "execution_count": 12,
   "id": "73abf92e",
   "metadata": {},
   "outputs": [],
   "source": [
    "#### Vaccine Data\n",
    "vaccine = pd.read_pickle('Weekly_vaccination.pkl')\n",
    "df = df.merge(vaccine)\n",
    "for i in vaccine.columns[2:]:\n",
    "    df[i] = df[i]/df['Population']\n",
    "for i in vaccine.columns[2:]:\n",
    "    df[i] = df[i]/7"
   ]
  },
  {
   "cell_type": "code",
   "execution_count": 13,
   "id": "2dbafe5f",
   "metadata": {},
   "outputs": [],
   "source": [
    "for fips in ['35', '42']:\n",
    "    df.loc[df[df['FIPS'] == fips].index, ['People_fully_vaccinated']] =\\\n",
    "    df[df['FIPS'] == fips][['People_fully_vaccinated']].rolling(window = 3).mean()"
   ]
  },
  {
   "cell_type": "code",
   "execution_count": 14,
   "id": "a9a330e7",
   "metadata": {},
   "outputs": [],
   "source": [
    "##### Policy data\n",
    "policy = pd.read_pickle('Weekly_policy.pkl')\n",
    "df = df.merge(policy)"
   ]
  },
  {
   "cell_type": "code",
   "execution_count": 15,
   "id": "53b4aef0",
   "metadata": {},
   "outputs": [],
   "source": [
    "###### Testing data\n",
    "test = pd.read_pickle('Weekly_testing.pkl')\n",
    "test.Weekly_testing = test.Weekly_testing.mask(test.Weekly_testing.lt(0),np.nan)\n",
    "test['Weekly_testing'] = test['Weekly_testing'].interpolate(method='linear')\n",
    "df = df.merge(test)\n",
    "for i in test.columns[2:]:\n",
    "    df[i] = df[i]/df['Population']\n",
    "for fips in df['FIPS'].unique():\n",
    "    df.loc[df[df['FIPS'] == fips].index, ['Weekly_testing']] =\\\n",
    "    df[df['FIPS'] == fips][['Weekly_testing']].rolling(window = 3).mean()"
   ]
  },
  {
   "cell_type": "code",
   "execution_count": 16,
   "id": "15f56167",
   "metadata": {},
   "outputs": [],
   "source": [
    "#### Past infections\n",
    "past_inf = pd.read_pickle('Weekly_past_infection.pkl')\n",
    "df = df.merge(past_inf)\n",
    "for i in past_inf.columns[2:]:\n",
    "    df[i] = df[i]/df['Population']"
   ]
  },
  {
   "cell_type": "code",
   "execution_count": 17,
   "id": "36334739",
   "metadata": {},
   "outputs": [],
   "source": [
    "# df.to_pickle('processed_data/var_before_trans.pkl')"
   ]
  },
  {
   "cell_type": "code",
   "execution_count": 18,
   "id": "446f798b",
   "metadata": {},
   "outputs": [],
   "source": [
    "##### Add lags\n",
    "\n",
    "for col in ['People_at_least_one_dose', 'People_fully_vaccinated',\n",
    "       'Total_additional_doses', 'GovernmentResponseIndex_Average',\n",
    "       'Weekly_testing']:\n",
    "    for fips in df['FIPS'].unique():\n",
    "         df.loc[df[df['FIPS'] == fips].index, col + '_lag2'] =\\\n",
    "         df[df['FIPS'] == fips][col].shift(2)\n",
    "\n",
    "for col in ['Past_16_week_infections', 'Past_12_week_infections',\n",
    "       'Past_20_week_infections', 'Past_24_week_infections']:\n",
    "    for fips in df['FIPS'].unique():\n",
    "         df.loc[df[df['FIPS'] == fips].index, col + '_lag4'] =\\\n",
    "         df[df['FIPS'] == fips][col].shift(4)\n",
    "            \n",
    "df = df[~df['FIPS'].isin(['33', '54'])].reset_index().drop(columns = ['index'])\n",
    "for fips in df['FIPS'].unique():\n",
    "    df.loc[df[df['FIPS'] == fips].index, ['IHR_lag1']] =\\\n",
    "    df[df['FIPS'] == fips][['IHR_lag1']].rolling(window = 3).mean()"
   ]
  },
  {
   "cell_type": "code",
   "execution_count": 19,
   "id": "1128ad22",
   "metadata": {},
   "outputs": [],
   "source": [
    "df_selected = df[['FIPS', 'Week_Mon', 'IHR_lag1', 'People_at_least_one_dose_lag2', 'People_fully_vaccinated_lag2',\n",
    "       'Total_additional_doses_lag2', 'GovernmentResponseIndex_Average_lag2',\n",
    "       'Weekly_testing_lag2', 'Past_16_week_infections_lag4',\n",
    "       'Past_12_week_infections_lag4', 'Past_20_week_infections_lag4',\n",
    "       'Past_24_week_infections_lag4']]"
   ]
  },
  {
   "cell_type": "code",
   "execution_count": 20,
   "id": "02b9d3b9",
   "metadata": {},
   "outputs": [],
   "source": [
    "for col in df_selected.columns[2:]:\n",
    "    df_selected = create_relative(df_selected, col)"
   ]
  },
  {
   "cell_type": "code",
   "execution_count": 22,
   "id": "c96879af",
   "metadata": {},
   "outputs": [],
   "source": [
    "mobility = pd.read_pickle('Weekly_activity_level.pkl')\n",
    "mobility['Week_Mon'] = pd.to_datetime(mobility['Week_Mon'])\n",
    "for fips in mobility['FIPS'].unique():\n",
    "    mobility.iloc[mobility[mobility['FIPS'] == fips].index,2:] =\\\n",
    "    mobility[mobility['FIPS'] == fips].iloc[:, 2:].rolling(window = 3).mean()"
   ]
  },
  {
   "cell_type": "code",
   "execution_count": 23,
   "id": "d2fc8ec7",
   "metadata": {},
   "outputs": [],
   "source": [
    "df_selected = df_selected.merge(mobility, how = 'left')"
   ]
  },
  {
   "cell_type": "code",
   "execution_count": 24,
   "id": "a14c71ac",
   "metadata": {},
   "outputs": [],
   "source": [
    "for col in mobility.columns[2:]:\n",
    "    for fips in df_selected['FIPS'].unique():\n",
    "         df_selected.loc[df_selected[df_selected['FIPS'] == fips].index, col + '_lag2'] =\\\n",
    "         df_selected[df_selected['FIPS'] == fips][col].shift(2)"
   ]
  },
  {
   "cell_type": "code",
   "execution_count": 25,
   "id": "b9201470",
   "metadata": {},
   "outputs": [],
   "source": [
    "df_selected = df_selected[['FIPS', 'Week_Mon', 'Relative_IHR_lag1', 'Relative_People_at_least_one_dose_lag2',\n",
    "       'Relative_People_fully_vaccinated_lag2',\n",
    "       'Relative_Total_additional_doses_lag2',\n",
    "       'Relative_GovernmentResponseIndex_Average_lag2',\n",
    "       'Relative_Weekly_testing_lag2', 'Relative_Past_16_week_infections_lag4',\n",
    "       'Relative_Past_12_week_infections_lag4',\n",
    "       'Relative_Past_20_week_infections_lag4',\n",
    "       'Relative_Past_24_week_infections_lag4',\n",
    "       'University_lag2', 'full_service_restaurant_lag2',\n",
    "       'limited_service_restaurant_lag2', 'elementary_school_lag2',\n",
    "       'other_general_store_lag2', 'gas_station_lag2', 'gym_lag2',\n",
    "       'grocery_store_lag2', 'cafes_snack_bar_lag2', 'hotel_lag2',\n",
    "       'religious_organization_lag2', 'parks_lag2', 'hardware_store_lag2',\n",
    "       'department_store_lag2', 'child_day_care_lag2',\n",
    "       'office_of_physician_lag2', 'pharmacies_lag2',\n",
    "       'sporting_goods_store_lag2', 'automotive_store_lag2',\n",
    "       'used_merchandise_store_lag2', 'convenience_store_lag2']]"
   ]
  },
  {
   "cell_type": "code",
   "execution_count": 26,
   "id": "750063cc",
   "metadata": {},
   "outputs": [],
   "source": [
    "for col in ['University_lag2', 'full_service_restaurant_lag2',\n",
    "       'limited_service_restaurant_lag2', 'elementary_school_lag2',\n",
    "       'other_general_store_lag2', 'gas_station_lag2', 'gym_lag2',\n",
    "       'grocery_store_lag2', 'cafes_snack_bar_lag2', 'hotel_lag2',\n",
    "       'religious_organization_lag2', 'parks_lag2', 'hardware_store_lag2',\n",
    "       'department_store_lag2', 'child_day_care_lag2',\n",
    "       'office_of_physician_lag2', 'pharmacies_lag2',\n",
    "       'sporting_goods_store_lag2', 'automotive_store_lag2',\n",
    "       'used_merchandise_store_lag2', 'convenience_store_lag2']:\n",
    "    df_selected = create_relative(df_selected, col)"
   ]
  },
  {
   "cell_type": "code",
   "execution_count": 27,
   "id": "0dfa2cf8",
   "metadata": {},
   "outputs": [],
   "source": [
    "df_selected = df_selected[['FIPS', 'Week_Mon', 'Relative_IHR_lag1',\n",
    "       'Relative_People_at_least_one_dose_lag2',\n",
    "       'Relative_People_fully_vaccinated_lag2',\n",
    "       'Relative_Total_additional_doses_lag2',\n",
    "       'Relative_GovernmentResponseIndex_Average_lag2',\n",
    "       'Relative_Weekly_testing_lag2', 'Relative_Past_16_week_infections_lag4',\n",
    "       'Relative_Past_12_week_infections_lag4',\n",
    "       'Relative_Past_20_week_infections_lag4',\n",
    "       'Relative_Past_24_week_infections_lag4',\n",
    "       'Relative_University_lag2', 'Relative_full_service_restaurant_lag2',\n",
    "       'Relative_limited_service_restaurant_lag2',\n",
    "       'Relative_elementary_school_lag2', 'Relative_other_general_store_lag2',\n",
    "       'Relative_gas_station_lag2', 'Relative_gym_lag2',\n",
    "       'Relative_grocery_store_lag2', 'Relative_cafes_snack_bar_lag2',\n",
    "       'Relative_hotel_lag2', 'Relative_religious_organization_lag2',\n",
    "       'Relative_parks_lag2', 'Relative_hardware_store_lag2',\n",
    "       'Relative_department_store_lag2', 'Relative_child_day_care_lag2',\n",
    "       'Relative_office_of_physician_lag2', 'Relative_pharmacies_lag2',\n",
    "       'Relative_sporting_goods_store_lag2', 'Relative_automotive_store_lag2',\n",
    "       'Relative_used_merchandise_store_lag2',\n",
    "       'Relative_convenience_store_lag2']]"
   ]
  },
  {
   "cell_type": "code",
   "execution_count": 28,
   "id": "6b3cd0c3",
   "metadata": {},
   "outputs": [],
   "source": [
    "genomic = pd.read_pickle('Weekly_genomic.pkl')\n",
    "genomic['Week_Mon'] = pd.to_datetime(genomic['Week_Mon'])\n",
    "df_selected = df_selected.merge(genomic)"
   ]
  },
  {
   "cell_type": "code",
   "execution_count": 29,
   "id": "871e8e33",
   "metadata": {},
   "outputs": [],
   "source": [
    "df_selected['Dominant_variant'] = df_selected['Dominant_variant'].replace({'Alpha' : 'Others'})"
   ]
  },
  {
   "cell_type": "code",
   "execution_count": 32,
   "id": "1148de23",
   "metadata": {},
   "outputs": [],
   "source": [
    "static = pd.read_pickle('Static_data.pkl')\n",
    "df_selected = df_selected.merge(static)"
   ]
  },
  {
   "cell_type": "code",
   "execution_count": 33,
   "id": "ca50a5bb",
   "metadata": {},
   "outputs": [],
   "source": [
    "df_selected = df_selected[df_selected['Week_Mon']>='2021-03-01'].reset_index().drop(columns = ['index'])\n",
    "df_selected = df_selected[df_selected['Week_Mon']<='2022-03-01'].reset_index().drop(columns = ['index'])\n",
    "df_selected['medicaid_spending'] = df_selected['medicaid_spending']/1000"
   ]
  },
  {
   "cell_type": "code",
   "execution_count": 34,
   "id": "f705d3f1",
   "metadata": {},
   "outputs": [],
   "source": [
    "df_selected = df_selected[['FIPS', 'Week_Mon', 'Relative_IHR_lag1',\n",
    "       'Relative_People_at_least_one_dose_lag2',\n",
    "       'Relative_People_fully_vaccinated_lag2',\n",
    "       'Relative_Total_additional_doses_lag2',\n",
    "       'Relative_GovernmentResponseIndex_Average_lag2',\n",
    "       'Relative_Weekly_testing_lag2', 'Relative_Past_16_week_infections_lag4',\n",
    "       'Relative_Past_12_week_infections_lag4',\n",
    "       'Relative_Past_20_week_infections_lag4',\n",
    "       'Relative_Past_24_week_infections_lag4', 'Relative_University_lag2',\n",
    "       'Relative_full_service_restaurant_lag2','Relative_gas_station_lag2',\n",
    "       'Relative_gym_lag2',\n",
    "       'Relative_religious_organization_lag2',\n",
    "       'Relative_office_of_physician_lag2','over_65',\n",
    "       'Black', 'medicaid_spending', 'health_care_spending', 'poverty_rate',\n",
    "       'social_vulnerability_index',\n",
    "       'Healthcare Access and Quality Index', 'rep_voters',\n",
    "       'Adults_at_high_risk', 'Dominant_variant']]"
   ]
  },
  {
   "cell_type": "code",
   "execution_count": 35,
   "id": "d2b3d5d5",
   "metadata": {},
   "outputs": [],
   "source": [
    "df_selected = df_selected.rename(columns = {'Relative_IHR_lag1' : 'RCHR'})\n",
    "df_selected = df_selected.rename(columns = {'Relative_People_at_least_one_dose_lag2' : 'RPVR_lag2',\n",
    "                             'Relative_People_fully_vaccinated_lag2' : 'RCPSR_lag2',\n",
    "                             'Relative_Total_additional_doses_lag2' : 'RBVR_lag2',\n",
    "                             'Relative_GovernmentResponseIndex_Average_lag2' : 'RGP_lag2',\n",
    "                             'Relative_Weekly_testing_lag2' : 'RWTR_lag2',\n",
    "                             'Relative_Past_12_week_infections_lag4' : 'RPI_12_Weeks_lag4',\n",
    "                             'Relative_Past_16_week_infections_lag4' : 'RPI_16_Weeks_lag4',\n",
    "                             'Relative_Past_20_week_infections_lag4' : 'RPI_20_Weeks_lag4',\n",
    "                             'Relative_Past_24_week_infections_lag4' : 'RPI_24_Weeks_lag4',\n",
    "                             'Relative_University_lag2' : 'RUV_lag2',\n",
    "                            'Relative_full_service_restaurant_lag2' : 'RFSRV_lag2',\n",
    "                             'Relative_gas_station_lag2' : 'RGSV_lag2',\n",
    "                             'Relative_gym_lag2' : 'RGV_lag2', \n",
    "                             'Relative_religious_organization_lag2' : 'RROV_lag2',\n",
    "                             'Relative_office_of_physician_lag2' : 'ROPV_lag2',\n",
    "                             'Healthcare Access and Quality Index' : 'HAQI',\n",
    "                             'social_vulnerability_index' : 'SVI'})"
   ]
  },
  {
   "cell_type": "code",
   "execution_count": 37,
   "id": "e414c70a",
   "metadata": {},
   "outputs": [],
   "source": [
    "df_selected.to_csv('/Users/hongrudu/Desktop/COVID_Vaccination_rate/data/processed_data/CHR_input.csv')"
   ]
  },
  {
   "cell_type": "code",
   "execution_count": null,
   "id": "cbbb7a87",
   "metadata": {},
   "outputs": [],
   "source": []
  }
 ],
 "metadata": {
  "kernelspec": {
   "display_name": "Python 3 (ipykernel)",
   "language": "python",
   "name": "python3"
  },
  "language_info": {
   "codemirror_mode": {
    "name": "ipython",
    "version": 3
   },
   "file_extension": ".py",
   "mimetype": "text/x-python",
   "name": "python",
   "nbconvert_exporter": "python",
   "pygments_lexer": "ipython3",
   "version": "3.9.17"
  }
 },
 "nbformat": 4,
 "nbformat_minor": 5
}
