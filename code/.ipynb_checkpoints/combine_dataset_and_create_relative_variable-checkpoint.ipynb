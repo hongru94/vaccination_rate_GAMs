{
 "cells": [
  {
   "cell_type": "code",
   "execution_count": 2,
   "id": "179a4c64",
   "metadata": {},
   "outputs": [],
   "source": [
    "import pandas as pd\n",
    "import numpy as np\n",
    "import os"
   ]
  },
  {
   "cell_type": "code",
   "execution_count": 4,
   "id": "4678389d",
   "metadata": {},
   "outputs": [],
   "source": [
    "os.chdir(r'/Users/hongrudu/Documents/GitHub/vaccination_rate_GAMs/data')"
   ]
  },
  {
   "cell_type": "code",
   "execution_count": 5,
   "id": "1f847e4d",
   "metadata": {},
   "outputs": [],
   "source": [
    "cases = pd.read_pickle('weekly_cases.pkl')\n",
    "hospitalized = pd.read_pickle('weekly_hospitalized.pkl')\n",
    "df = hospitalized.merge(cases)"
   ]
  },
  {
   "cell_type": "code",
   "execution_count": 6,
   "id": "ecef53fa",
   "metadata": {},
   "outputs": [],
   "source": [
    "for fips in df['FIPS'].unique():\n",
    "    df.loc[df[df['FIPS'] == fips].index, ['Cases']] =\\\n",
    "    df[df['FIPS'] == fips][['Cases']].rolling(window = 3).mean()\n",
    "df = df.dropna().reset_index().drop(columns = ['index'])\n",
    "#### Add lag\n",
    "for fips in df['FIPS'].unique():\n",
    "    df.loc[df[df['FIPS'] == fips].index, ['Cases_lag1']] =\\\n",
    "    df[df['FIPS'] == fips]['Cases'].shift(1)\n",
    "df = df.dropna().reset_index().drop(columns = ['index'])\n",
    "df['hospitalization_rate'] = df['hospitalized']/df['Cases_lag1']\n",
    "\n",
    "####\n",
    "for fips in df['FIPS'].unique():\n",
    "    df.loc[df[df['FIPS'] == fips].index, ['hospitalization_rate']] =\\\n",
    "    df[df['FIPS'] == fips][['hospitalization_rate']].rolling(window = 3).mean()\n",
    "    \n",
    "#### Population\n",
    "pop = pd.read_csv('population_us.csv')\n",
    "pop['FIPS'] = pop['FIPS'].astype(str).str.zfill(5)\n",
    "pop['FIPS'] = pop['FIPS'].str[:2]\n",
    "pop = pop[['FIPS', 'Population']].groupby(['FIPS']).sum().reset_index()\n",
    "df = pop.merge(df)\n",
    "\n",
    "#### Vaccine Data\n",
    "vaccine = pd.read_pickle('weekly_vaccination.pkl')\n",
    "df = df.merge(vaccine)\n",
    "for i in vaccine.columns[2:]:\n",
    "    df[i] = df[i]/df['Population']\n",
    "for i in vaccine.columns[2:]:\n",
    "    df[i] = df[i]/7\n",
    "    \n",
    "##### Policy data\n",
    "policy = pd.read_pickle('weekly_policy.pkl')\n",
    "df = df.merge(policy)\n",
    "\n",
    "###### Testing data\n",
    "test = pd.read_pickle('weekly_testing.pkl')\n",
    "test.Weekly_testing = test.Weekly_testing.mask(test.Weekly_testing.lt(0),np.nan)\n",
    "test['Weekly_testing'] = test['Weekly_testing'].interpolate(method='linear')\n",
    "df = df.merge(test)\n",
    "for i in test.columns[2:]:\n",
    "    df[i] = df[i]/df['Population']\n",
    "    \n",
    "###### Mobility\n",
    "mobility = pd.read_pickle('weekly_mobility.pkl')\n",
    "df = df.merge(mobility, how = 'left')\n",
    "    \n",
    "#####Previous infection\n",
    "previous_infection = pd.read_pickle('weekly_previous_infection.pkl')\n",
    "df = df.merge(previous_infection)\n",
    "\n",
    "###Genomic_data\n",
    "genomic = pd.read_pickle('weekly_genomic.pkl')\n",
    "genomic['Week_Mon'] = pd.to_datetime(genomic['Week_Mon'])\n",
    "genomic['Dominant_variant'] = genomic['Dominant_variant'].replace('Alpha', 'Pre-Delta')\n",
    "df = df.merge(genomic)"
   ]
  },
  {
   "cell_type": "code",
   "execution_count": 7,
   "id": "0088e5ae",
   "metadata": {},
   "outputs": [],
   "source": [
    "def create_relative(df, col):\n",
    "    df_ref = df[['Week_Mon', col]].groupby(['Week_Mon']).mean().reset_index()\n",
    "    df_ref = df_ref.rename(columns = {col : 'ref'})\n",
    "    df = df.merge(df_ref, left_on = ['Week_Mon'], right_on = ['Week_Mon'])\n",
    "    df[col] = df[col]/df['ref']\n",
    "    df = df.drop(columns = ['ref'])\n",
    "    df = df.rename(columns = {col : 'Relative_' + col})\n",
    "    return df"
   ]
  },
  {
   "cell_type": "code",
   "execution_count": 8,
   "id": "f19be5fb",
   "metadata": {},
   "outputs": [],
   "source": [
    "for col in ['People_at_least_one_dose',\n",
    "       'People_fully_vaccinated', 'Total_additional_doses',\n",
    "       'GovernmentResponseIndex_Average', 'Weekly_testing',\n",
    "       'limited_service_restaurant', 'elementary_school',\n",
    "       'other_general_store', 'gas_station', 'gym', 'cafes_snack_bar',\n",
    "       'religious_organization', 'parks', 'hardware_store', 'department_store',\n",
    "       'child_day_care', 'office_of_physician', 'pharmacies',\n",
    "       'sporting_goods_store', 'automotive_store', 'used_merchandise_store',\n",
    "       'convenience_store', 'grocery_store', 'full_service_restaurant',\n",
    "       'hotel', 'University']:\n",
    "    for fips in df['FIPS'].unique():\n",
    "        df.loc[df[df['FIPS'] == fips].index, col + '_lag2'] =\\\n",
    "        df[df['FIPS'] == fips][col].shift(2)\n"
   ]
  },
  {
   "cell_type": "code",
   "execution_count": 9,
   "id": "28e1ea44",
   "metadata": {},
   "outputs": [],
   "source": [
    "for col in ['Past_12_week_infections',\n",
    "       'Past_16_week_infections', 'Past_20_week_infections',\n",
    "       'Past_24_week_infections']:\n",
    "    for fips in df['FIPS'].unique():\n",
    "        df.loc[df[df['FIPS'] == fips].index, col + '_lag4'] =\\\n",
    "        df[df['FIPS'] == fips][col].shift(4)\n"
   ]
  },
  {
   "cell_type": "code",
   "execution_count": 10,
   "id": "f7a58938",
   "metadata": {},
   "outputs": [],
   "source": [
    "for fips in df['FIPS'].unique():\n",
    "    df.loc[df[df['FIPS'] == fips].index, ['hospitalization_rate']] =\\\n",
    "    df[df['FIPS'] == fips][['hospitalization_rate']].rolling(window = 3).mean()"
   ]
  },
  {
   "cell_type": "code",
   "execution_count": 11,
   "id": "f195e713",
   "metadata": {},
   "outputs": [],
   "source": [
    "for col in ['hospitalization_rate','People_at_least_one_dose_lag2', 'People_fully_vaccinated_lag2',\n",
    "       'Total_additional_doses_lag2', 'GovernmentResponseIndex_Average_lag2',\n",
    "       'Weekly_testing_lag2', 'limited_service_restaurant_lag2',\n",
    "       'elementary_school_lag2', 'other_general_store_lag2',\n",
    "       'gas_station_lag2', 'gym_lag2', 'cafes_snack_bar_lag2',\n",
    "       'religious_organization_lag2', 'parks_lag2', 'hardware_store_lag2',\n",
    "       'department_store_lag2', 'child_day_care_lag2',\n",
    "       'office_of_physician_lag2', 'pharmacies_lag2',\n",
    "       'sporting_goods_store_lag2', 'automotive_store_lag2',\n",
    "       'used_merchandise_store_lag2', 'convenience_store_lag2',\n",
    "       'grocery_store_lag2', 'full_service_restaurant_lag2', 'hotel_lag2',\n",
    "       'University_lag2', 'Past_12_week_infections_lag4',\n",
    "       'Past_16_week_infections_lag4', 'Past_20_week_infections_lag4',\n",
    "       'Past_24_week_infections_lag4']:\n",
    "       df = create_relative(df, col)"
   ]
  },
  {
   "cell_type": "code",
   "execution_count": 12,
   "id": "54fdca31",
   "metadata": {},
   "outputs": [],
   "source": [
    "df_hospitalization = df[['FIPS', 'Week_Mon', 'Relative_hospitalization_rate',\n",
    "                         'Relative_People_at_least_one_dose_lag2',\n",
    "       'Relative_People_fully_vaccinated_lag2',\n",
    "       'Relative_Total_additional_doses_lag2',\n",
    "       'Relative_GovernmentResponseIndex_Average_lag2',\n",
    "       'Relative_Weekly_testing_lag2',\n",
    "       'Relative_limited_service_restaurant_lag2',\n",
    "       'Relative_elementary_school_lag2', 'Relative_other_general_store_lag2',\n",
    "       'Relative_gas_station_lag2', 'Relative_gym_lag2',\n",
    "       'Relative_cafes_snack_bar_lag2', 'Relative_religious_organization_lag2',\n",
    "       'Relative_parks_lag2', 'Relative_hardware_store_lag2',\n",
    "       'Relative_department_store_lag2', 'Relative_child_day_care_lag2',\n",
    "       'Relative_office_of_physician_lag2', 'Relative_pharmacies_lag2',\n",
    "       'Relative_sporting_goods_store_lag2', 'Relative_automotive_store_lag2',\n",
    "       'Relative_used_merchandise_store_lag2',\n",
    "       'Relative_convenience_store_lag2', 'Relative_grocery_store_lag2',\n",
    "       'Relative_full_service_restaurant_lag2', 'Relative_hotel_lag2',\n",
    "       'Relative_University_lag2', 'Relative_Past_12_week_infections_lag4',\n",
    "       'Relative_Past_16_week_infections_lag4',\n",
    "       'Relative_Past_20_week_infections_lag4',\n",
    "       'Relative_Past_24_week_infections_lag4','Dominant_variant']]"
   ]
  },
  {
   "cell_type": "code",
   "execution_count": 13,
   "id": "827d3921",
   "metadata": {},
   "outputs": [],
   "source": [
    "df_hospitalization = df_hospitalization[(df_hospitalization['Week_Mon'] >= pd.to_datetime('2021-04-19'))&(df_hospitalization['Week_Mon'] \\\n",
    "                    <= pd.to_datetime('2022-02-28'))].reset_index().drop(columns = ['index'])"
   ]
  },
  {
   "cell_type": "code",
   "execution_count": 14,
   "id": "d76cd5a6",
   "metadata": {},
   "outputs": [],
   "source": [
    "df_static = pd.read_pickle('/Users/hongrudu/Desktop/submission_file/raw_data/static_variable.pkl')"
   ]
  },
  {
   "cell_type": "code",
   "execution_count": 15,
   "id": "0558131a",
   "metadata": {},
   "outputs": [],
   "source": [
    "df_hospitalization = df_hospitalization.merge(df_static)"
   ]
  },
  {
   "cell_type": "code",
   "execution_count": 16,
   "id": "c55dd612",
   "metadata": {},
   "outputs": [],
   "source": [
    "df_hospitalization = df_hospitalization.rename(columns = {'Week_Mon' : 'Week',\n",
    "                                                          'Relative_University_lag2' : 'Relative_university_lag2',\n",
    "                             'Relative_GovernmentResponseIndex_Average_lag2' : 'Relative_Government_Response_Index_lag2',\n",
    "                      'Weekly_testing_lag2' : 'Relative_Weekly_testing_lag2',\n",
    "                      'Past_12_week_infections_lag4' : 'Relative_Past_12_week_infections_lag4',\n",
    "                      'Past_16_week_infections_lag4' : 'Relative_Past_16_week_infections_lag4',\n",
    "                      'Past_20_week_infections_lag4' : 'Relative_Past_20_week_infections_lag4',\n",
    "                      'Past_24_week_infections_lag4' : 'Relative_Past_24_week_infections_lag4',\n",
    "                             'Relative_People_at_least_one_dose_lag2' : 'Relative_partial_vaccination_rate_lag2',\n",
    "                      'Relative_People_fully_vaccinated_lag2' : 'Relative_completed_primary_series_rate_lag2',\n",
    "                      'Relative_Total_additional_doses_lag2' : 'Relative_booster_vaccination_rate_lag2'})"
   ]
  },
  {
   "cell_type": "code",
   "execution_count": 17,
   "id": "2486854c",
   "metadata": {},
   "outputs": [],
   "source": [
    "df_hospitalization = df_hospitalization[['FIPS', 'Week', 'Relative_hospitalization_rate',\n",
    "       'Relative_university_lag2', 'Relative_full_service_restaurant_lag2',\n",
    "       'Relative_hotel_lag2', 'Relative_grocery_store_lag2',\n",
    "     'Relative_limited_service_restaurant_lag2',\n",
    "       'Relative_elementary_school_lag2', 'Relative_other_general_store_lag2',\n",
    "       'Relative_gas_station_lag2', 'Relative_gym_lag2',\n",
    "       'Relative_cafes_snack_bar_lag2', 'Relative_religious_organization_lag2',\n",
    "       'Relative_parks_lag2', 'Relative_hardware_store_lag2',\n",
    "       'Relative_department_store_lag2', 'Relative_child_day_care_lag2',\n",
    "       'Relative_office_of_physician_lag2', 'Relative_pharmacies_lag2',\n",
    "       'Relative_sporting_goods_store_lag2', 'Relative_automotive_store_lag2',\n",
    "       'Relative_used_merchandise_store_lag2',\n",
    "       'Relative_convenience_store_lag2',\n",
    "     'Relative_Government_Response_Index_lag2',\n",
    "       'Relative_Weekly_testing_lag2', 'Relative_Past_12_week_infections_lag4',\n",
    "       'Relative_Past_16_week_infections_lag4',\n",
    "       'Relative_Past_20_week_infections_lag4',\n",
    "       'Relative_Past_24_week_infections_lag4',\n",
    "       'Relative_partial_vaccination_rate_lag2',\n",
    "       'Relative_completed_primary_series_rate_lag2',\n",
    "       'Relative_booster_vaccination_rate_lag2', 'Dominant_variant']]"
   ]
  },
  {
   "cell_type": "code",
   "execution_count": 18,
   "id": "1821006c",
   "metadata": {},
   "outputs": [],
   "source": [
    "df_hospitalization.to_csv('df_hosp.csv')"
   ]
  },
  {
   "cell_type": "code",
   "execution_count": null,
   "id": "6e97227f",
   "metadata": {},
   "outputs": [],
   "source": []
  }
 ],
 "metadata": {
  "kernelspec": {
   "display_name": "Python 3 (ipykernel)",
   "language": "python",
   "name": "python3"
  },
  "language_info": {
   "codemirror_mode": {
    "name": "ipython",
    "version": 3
   },
   "file_extension": ".py",
   "mimetype": "text/x-python",
   "name": "python",
   "nbconvert_exporter": "python",
   "pygments_lexer": "ipython3",
   "version": "3.9.13"
  }
 },
 "nbformat": 4,
 "nbformat_minor": 5
}
