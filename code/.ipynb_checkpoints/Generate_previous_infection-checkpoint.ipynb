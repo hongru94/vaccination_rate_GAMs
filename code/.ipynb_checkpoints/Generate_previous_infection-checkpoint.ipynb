{
 "cells": [
  {
   "cell_type": "code",
   "execution_count": 1,
   "id": "829fa8dc",
   "metadata": {},
   "outputs": [],
   "source": [
    "import pandas as pd\n",
    "import numpy as np\n"
   ]
  },
  {
   "cell_type": "code",
   "execution_count": 2,
   "id": "6c07e62c",
   "metadata": {},
   "outputs": [],
   "source": [
    "def convert_daily_to_weekly_sum(daily_df):\n",
    "    daily_df['Week_Mon'] = pd.to_datetime(daily_df['Date']).dt.to_period('W').dt.start_time\n",
    "    weekly_df = daily_df.groupby(['FIPS', 'Week_Mon']).sum().reset_index()\n",
    "    return weekly_df\n",
    "def convert_daily_to_weekly_mean(daily_df):\n",
    "    daily_df['Week_Mon'] = pd.to_datetime(daily_df['Date']).dt.to_period('W').dt.start_time\n",
    "    weekly_df = daily_df.groupby(['FIPS', 'Week_Mon']).mean().reset_index()\n",
    "    return weekly_df"
   ]
  },
  {
   "cell_type": "code",
   "execution_count": 3,
   "id": "72aa2aa4",
   "metadata": {},
   "outputs": [],
   "source": [
    "#Get US population level Data\n",
    "demo = pd.read_csv('/Users/hongrudu/Documents/GitHub/vaccination_rate_GAMs/data/age_US_state.csv',\n",
    "                  dtype = {'FIPS' : np.str_})\n",
    "demo['over_65'] = demo['X65_to_69'] + demo['X70_to_74'] + demo['X70_to_74'] + demo['X80_to_84'] + demo['X85_and_older']\n",
    "demo['per_over_65'] = demo['over_65']/demo['total_pop']\n",
    "demo_state = demo[['FIPS', 'total_pop', 'per_over_65']]"
   ]
  },
  {
   "cell_type": "code",
   "execution_count": 4,
   "id": "fd6f076f",
   "metadata": {},
   "outputs": [],
   "source": [
    "ref = pd.read_csv('/Users/hongrudu/Documents/GitHub/vaccination_rate_GAMs/data/state_fips_master.csv',\n",
    "                 dtype = {'fips' : np.str_})\n",
    "ref['fips'] = ref['fips'].str.zfill(2)\n",
    "ref_1 = ref[['state_name', 'fips']]\n",
    "ref = ref[['state_abbr', 'fips']]\n"
   ]
  },
  {
   "cell_type": "code",
   "execution_count": 5,
   "id": "e450a0c6",
   "metadata": {},
   "outputs": [],
   "source": [
    "#############################\n",
    "######Cases data\n",
    "#############################\n",
    "##Read in cases data from Github\n",
    "CSSE_url = 'https://raw.githubusercontent.com/CSSEGISandData/COVID-19/master/csse_covid_19_data/csse_covid_19_time_series/time_series_covid19_confirmed_US.csv'\n",
    "cases = pd.read_csv(CSSE_url, dtype = {'FIPS' : np.str_})\n",
    "cases = ref_1.merge(cases.drop(columns = ['FIPS']), how = 'left', left_on = ['state_name'], right_on = ['Province_State'])# cases['FIPS'] = cases['FIPS'].str.zfill(5)\n",
    "cases = cases.rename(columns = {'fips' : 'FIPS'}).groupby(['FIPS']).sum().iloc[:, 14:]\n",
    "\n",
    "daily_cases = cases.iloc[:, 13:] - cases.iloc[:, 13:].shift(axis = 1)\n",
    "\n",
    "#single moving average\n",
    "daily_cases = daily_cases.dropna(axis = 1).rolling(window = 7, axis = 1).mean()\n",
    "\n",
    "daily_cases = daily_cases.dropna(axis = 1)\n",
    "daily_cases.columns = pd.to_datetime(daily_cases.columns).strftime('%Y-%m-%d')\n",
    "daily_cases_state = daily_cases.groupby(daily_cases.index.str[:2]).sum()\n",
    "daily_cases_state[daily_cases_state<0] = 0\n",
    "\n",
    "daily_cases_state = daily_cases_state.unstack().reset_index().rename(columns = {'level_0' : 'Date', 0 : 'Cases'})\n",
    "daily_cases_state['Week_Mon'] = pd.to_datetime(daily_cases_state['Date']).dt.to_period('W').dt.start_time\n",
    "weekly_cases_state = daily_cases_state.groupby(['FIPS', 'Week_Mon']).sum().reset_index()\n",
    "\n",
    "weekly_cases_state = weekly_cases_state.merge(demo_state)\n",
    "weekly_cases_state['Cases'] = weekly_cases_state['Cases']/weekly_cases_state['total_pop']\n",
    "weekly_cases_state = weekly_cases_state.drop(columns = ['total_pop', 'per_over_65'])\n",
    "\n"
   ]
  },
  {
   "cell_type": "code",
   "execution_count": 6,
   "id": "c0bdd3cf",
   "metadata": {},
   "outputs": [],
   "source": [
    "for fips in weekly_cases_state['FIPS'].unique():\n",
    "    weekly_cases_state.loc[weekly_cases_state[weekly_cases_state['FIPS'] == fips].index, 'Past_12_week_infections'] = \\\n",
    "weekly_cases_state[weekly_cases_state['FIPS'] == fips]['Cases'].rolling(window = 12).sum()"
   ]
  },
  {
   "cell_type": "code",
   "execution_count": 7,
   "id": "bd7c3fce",
   "metadata": {},
   "outputs": [],
   "source": [
    "for fips in weekly_cases_state['FIPS'].unique():\n",
    "    weekly_cases_state.loc[weekly_cases_state[weekly_cases_state['FIPS'] == fips].index, 'Past_16_week_infections'] = \\\n",
    "weekly_cases_state[weekly_cases_state['FIPS'] == fips]['Cases'].rolling(window = 16).sum()"
   ]
  },
  {
   "cell_type": "code",
   "execution_count": 8,
   "id": "fcb24c9d",
   "metadata": {},
   "outputs": [],
   "source": [
    "for fips in weekly_cases_state['FIPS'].unique():\n",
    "    weekly_cases_state.loc[weekly_cases_state[weekly_cases_state['FIPS'] == fips].index, 'Past_20_week_infections'] = \\\n",
    "weekly_cases_state[weekly_cases_state['FIPS'] == fips]['Cases'].rolling(window = 20).sum()"
   ]
  },
  {
   "cell_type": "code",
   "execution_count": 9,
   "id": "5c371cdb",
   "metadata": {},
   "outputs": [],
   "source": [
    "for fips in weekly_cases_state['FIPS'].unique():\n",
    "    weekly_cases_state.loc[weekly_cases_state[weekly_cases_state['FIPS'] == fips].index, 'Past_24_week_infections'] = \\\n",
    "weekly_cases_state[weekly_cases_state['FIPS'] == fips]['Cases'].rolling(window = 24).sum()"
   ]
  },
  {
   "cell_type": "code",
   "execution_count": 10,
   "id": "0ece79c3",
   "metadata": {},
   "outputs": [],
   "source": [
    "weekly_cases_state = weekly_cases_state.dropna().reset_index().drop(columns = ['index'])\n",
    "past_infections = weekly_cases_state.dropna().reset_index().drop(columns = ['index', 'Cases'])"
   ]
  },
  {
   "cell_type": "code",
   "execution_count": 11,
   "id": "fad4ef65",
   "metadata": {},
   "outputs": [],
   "source": [
    "past_infections.to_pickle('/Users/hongrudu/Documents/GitHub/vaccination_rate_GAMs/data/weekly_previous_infection.pkl')"
   ]
  },
  {
   "cell_type": "code",
   "execution_count": null,
   "id": "79e6d2d0",
   "metadata": {},
   "outputs": [],
   "source": []
  }
 ],
 "metadata": {
  "kernelspec": {
   "display_name": "Python 3 (ipykernel)",
   "language": "python",
   "name": "python3"
  },
  "language_info": {
   "codemirror_mode": {
    "name": "ipython",
    "version": 3
   },
   "file_extension": ".py",
   "mimetype": "text/x-python",
   "name": "python",
   "nbconvert_exporter": "python",
   "pygments_lexer": "ipython3",
   "version": "3.9.13"
  }
 },
 "nbformat": 4,
 "nbformat_minor": 5
}
