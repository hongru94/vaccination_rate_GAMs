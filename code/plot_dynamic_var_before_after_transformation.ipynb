{
 "cells": [
  {
   "cell_type": "code",
   "execution_count": 1,
   "id": "3e9760fb",
   "metadata": {},
   "outputs": [],
   "source": [
    "import pandas as pd\n",
    "import numpy as np\n",
    "import os\n",
    "import matplotlib.pyplot as plt\n",
    "%matplotlib inline"
   ]
  },
  {
   "cell_type": "code",
   "execution_count": 2,
   "id": "903e4bb7",
   "metadata": {},
   "outputs": [],
   "source": [
    "os.chdir('/Users/hongrudu/Desktop/COVID_Vaccination_rate/data/raw_data')"
   ]
  },
  {
   "cell_type": "code",
   "execution_count": 3,
   "id": "97f94d82",
   "metadata": {},
   "outputs": [],
   "source": [
    "def create_relative(df, col):\n",
    "    df_ref = df[['Week_Mon', col]].groupby(['Week_Mon']).mean().reset_index()\n",
    "    df_ref = df_ref.rename(columns = {col : 'ref'})\n",
    "    df = df.merge(df_ref, left_on = ['Week_Mon'], right_on = ['Week_Mon'])\n",
    "    df['Relative_' + col] = df[col]/df['ref']\n",
    "    df = df.drop(columns = ['ref'])\n",
    "    return df"
   ]
  },
  {
   "cell_type": "code",
   "execution_count": 4,
   "id": "569416ee",
   "metadata": {},
   "outputs": [],
   "source": [
    "ref = pd.read_csv('state_fips_master.csv',\n",
    "                 dtype = {'fips' : np.str_})\n",
    "labels = ref[~ref['fips'].isin(['33', '54'])]['state_name']"
   ]
  },
  {
   "cell_type": "code",
   "execution_count": 5,
   "id": "d7362b59",
   "metadata": {},
   "outputs": [],
   "source": [
    "#### Read raw data\n",
    "cases = pd.read_pickle('Weekly_cases.pkl')\n",
    "hospitalized = pd.read_pickle('Weekly_hospitalization.pkl')\n",
    "df = hospitalized.merge(cases)\n",
    "#### Smooth data\n",
    "for fips in df['FIPS'].unique():\n",
    "    df.loc[df[df['FIPS'] == fips].index, ['Cases']] =\\\n",
    "    df[df['FIPS'] == fips][['Cases']].rolling(window = 3).mean()\n",
    "df = df.dropna().reset_index().drop(columns = ['index'])\n",
    "for fips in df['FIPS'].unique():\n",
    "    df.loc[df[df['FIPS'] == fips].index, ['Cases_lag1']] =\\\n",
    "    df[df['FIPS'] == fips]['Cases'].shift(2)\n",
    "df = df.dropna().reset_index().drop(columns = ['index'])\n",
    "df['IHR_lag1'] = df['hospitalized']/df['Cases_lag1']\n",
    "for fips in df['FIPS'].unique():\n",
    "    df.loc[df[df['FIPS'] == fips].index, ['IHR_lag1']] =\\\n",
    "    df[df['FIPS'] == fips][['IHR_lag1']].rolling(window = 3).mean()\n",
    "pop = pd.read_pickle('State_population.pkl')\n",
    "df = pop.merge(df)\n",
    "#### Vaccine Data\n",
    "vaccine = pd.read_pickle('Weekly_vaccination.pkl')\n",
    "df = df.merge(vaccine)\n",
    "for i in vaccine.columns[2:]:\n",
    "    df[i] = df[i]/df['Population']\n",
    "for i in vaccine.columns[2:]:\n",
    "    df[i] = df[i]/7\n",
    "for fips in ['35', '42']:\n",
    "    df.loc[df[df['FIPS'] == fips].index, ['People_fully_vaccinated']] =\\\n",
    "    df[df['FIPS'] == fips][['People_fully_vaccinated']].rolling(window = 3).mean()\n",
    "##### Policy data\n",
    "policy = pd.read_pickle('Weekly_policy.pkl')\n",
    "df = df.merge(policy)\n",
    "###### Testing data\n",
    "test = pd.read_pickle('Weekly_testing.pkl')\n",
    "test.Weekly_testing = test.Weekly_testing.mask(test.Weekly_testing.lt(0),np.nan)\n",
    "test['Weekly_testing'] = test['Weekly_testing'].interpolate(method='linear')\n",
    "df = df.merge(test)\n",
    "for i in test.columns[2:]:\n",
    "    df[i] = df[i]/df['Population']\n",
    "for fips in df['FIPS'].unique():\n",
    "    df.loc[df[df['FIPS'] == fips].index, ['Weekly_testing']] =\\\n",
    "    df[df['FIPS'] == fips][['Weekly_testing']].rolling(window = 3).mean()\n",
    "#### Past infections\n",
    "past_inf = pd.read_pickle('Weekly_past_infection.pkl')\n",
    "df = df.merge(past_inf)\n",
    "for i in past_inf.columns[2:]:\n",
    "    df[i] = df[i]/df['Population']"
   ]
  },
  {
   "cell_type": "code",
   "execution_count": 6,
   "id": "507932be",
   "metadata": {},
   "outputs": [],
   "source": [
    "data_raw = df.copy()\n",
    "data_raw = data_raw[data_raw['Week_Mon']>='2021-03-01'].reset_index().drop(columns = ['index'])\n",
    "data_raw = data_raw[data_raw['Week_Mon']<='2022-02-21'].reset_index().drop(columns = ['index'])"
   ]
  },
  {
   "cell_type": "code",
   "execution_count": 7,
   "id": "aa8d04f7",
   "metadata": {},
   "outputs": [],
   "source": [
    "mobility = pd.read_pickle('Weekly_activity_level.pkl')\n",
    "mobility['Week_Mon'] = pd.to_datetime(mobility['Week_Mon'])\n",
    "mobility = mobility[mobility['Week_Mon']>='2021-03-01'].reset_index().drop(columns = ['index'])"
   ]
  },
  {
   "cell_type": "code",
   "execution_count": 8,
   "id": "835312c5",
   "metadata": {},
   "outputs": [],
   "source": [
    "mobility_cols = ['gym', 'University', 'office_of_physician']\n",
    "for col in mobility_cols:\n",
    "    mobility = create_relative(mobility, col)\n",
    "for col in data_raw.columns[3:]:\n",
    "    data_raw = create_relative(data_raw, col)"
   ]
  },
  {
   "cell_type": "code",
   "execution_count": 9,
   "id": "adb191d6",
   "metadata": {},
   "outputs": [],
   "source": [
    "All_states = ['01', '02', '04', '05', '06', '08', '09', '10', '12', '13',\n",
    "'15', '16', '17', '18', '19', '20', '21', '22', '23', '24', '25',\n",
    "'26', '27', '28', '29', '30', '31', '32', '34', '35', '36',\n",
    "'37', '38', '39', '40', '41', '42', '44', '45', '46', '47', '48',\n",
    "'49', '50', '51', '53', '55', '56']"
   ]
  },
  {
   "cell_type": "code",
   "execution_count": 10,
   "id": "de87bad6",
   "metadata": {},
   "outputs": [],
   "source": [
    "colors = plt.get_cmap('tab20')(np.linspace(0, 1, 48))"
   ]
  },
  {
   "cell_type": "code",
   "execution_count": 12,
   "id": "51dbce19",
   "metadata": {},
   "outputs": [],
   "source": [
    "fig, axs = plt.subplots(8,2, figsize=(18,15),sharex=True)\n",
    "i = 0\n",
    "alpha = 0.8\n",
    "markersize = 2\n",
    "for fips in All_states:\n",
    "    axs[0,0].plot(pd.to_datetime(data_raw[data_raw['FIPS'] == fips]['Week_Mon']), \n",
    "             data_raw[data_raw['FIPS'] == fips]['IHR_lag1'],alpha=alpha,\n",
    "             marker = 'o', color = colors[i], label = fips, markersize = markersize)\n",
    "    axs[0,0].set_ylabel('CHR')\n",
    "    plt.text(0.01, 0.85, \"a1\", transform=axs[0,0].transAxes, fontstyle = 'italic')\n",
    "    axs[1,0].plot(pd.to_datetime(data_raw[data_raw['FIPS'] == fips]['Week_Mon']), \n",
    "             data_raw[data_raw['FIPS'] == fips]['People_fully_vaccinated'],alpha=alpha,\n",
    "             marker = 'o', color = colors[i], label = fips, markersize = markersize)\n",
    "    axs[1,0].set_ylabel('CPSR')\n",
    "    plt.text(0.01, 0.85, \"b1\", transform=axs[1,0].transAxes, fontstyle = 'italic')\n",
    "    axs[2,0].plot(pd.to_datetime(data_raw[data_raw['FIPS'] == fips]['Week_Mon']), \n",
    "             data_raw[data_raw['FIPS'] == fips]['Past_12_week_infections'],alpha=alpha,\n",
    "             marker = 'o', color = colors[i], label = fips, markersize = markersize)\n",
    "    axs[2,0].set_ylabel('PI')\n",
    "    plt.text(0.01, 0.85, \"c1\", transform=axs[2,0].transAxes, fontstyle = 'italic')\n",
    "    axs[3,0].plot(pd.to_datetime(data_raw[data_raw['FIPS'] == fips]['Week_Mon']), \n",
    "             data_raw[data_raw['FIPS'] == fips]['GovernmentResponseIndex_Average'],alpha=alpha,\n",
    "             marker = 'o', color = colors[i], label = fips, markersize = markersize)\n",
    "    axs[3,0].set_ylabel('GP')\n",
    "    plt.text(0.01, 0.85, \"d1\", transform=axs[3,0].transAxes, fontstyle = 'italic')\n",
    "    axs[4,0].plot(pd.to_datetime(data_raw[data_raw['FIPS'] == fips]['Week_Mon']), \n",
    "             data_raw[data_raw['FIPS'] == fips]['Weekly_testing'],alpha=alpha,\n",
    "             marker = 'o', color = colors[i], label = fips, markersize = markersize)\n",
    "    axs[4,0].set_ylabel('WTR')\n",
    "    plt.text(0.01, 0.85, \"e1\", transform=axs[4,0].transAxes, fontstyle = 'italic')\n",
    "    axs[5,0].plot(pd.to_datetime(mobility[mobility['FIPS'] == fips]['Week_Mon']), \n",
    "             mobility[mobility['FIPS'] == fips]['University'],alpha=alpha,\n",
    "             marker = 'o', color = colors[i], label = fips, markersize = markersize)\n",
    "    axs[5,0].set_ylabel('UV')\n",
    "    plt.text(0.01, 0.85, \"f1\", transform=axs[5,0].transAxes, fontstyle = 'italic')\n",
    "    axs[6,0].plot(pd.to_datetime(mobility[mobility['FIPS'] == fips]['Week_Mon']), \n",
    "             mobility[mobility['FIPS'] == fips]['gym'], alpha=alpha,\n",
    "             marker = 'o', color = colors[i], label = fips, markersize = markersize)\n",
    "    axs[6,0].set_ylabel('GV')\n",
    "    plt.text(0.01, 0.85, \"g1\", transform=axs[6,0].transAxes, fontstyle = 'italic')\n",
    "    axs[7,0].plot(pd.to_datetime(mobility[mobility['FIPS'] == fips]['Week_Mon']), \n",
    "             mobility[mobility['FIPS'] == fips]['office_of_physician'], alpha=alpha,\n",
    "             marker = 'o', color = colors[i], label = fips, markersize = markersize)\n",
    "    axs[7,0].set_ylabel('PV')\n",
    "    plt.text(0.01, 0.85, \"h1\", transform=axs[7,0].transAxes, fontstyle = 'italic')\n",
    "    \n",
    "    #####After transformation\n",
    "    axs[0,1].plot(pd.to_datetime(data_raw[data_raw['FIPS'] == fips]['Week_Mon']), \n",
    "             data_raw[data_raw['FIPS'] == fips]['Relative_IHR_lag1'],alpha=alpha,\n",
    "             marker = 'o', color = colors[i], label = fips, markersize = markersize)\n",
    "    axs[0,1].set_ylabel('RCHR')\n",
    "    plt.text(0.01, 0.85, \"a2\", transform=axs[0,1].transAxes, fontstyle = 'italic')\n",
    "    axs[1,1].plot(pd.to_datetime(data_raw[data_raw['FIPS'] == fips]['Week_Mon']), \n",
    "             data_raw[data_raw['FIPS'] == fips]['Relative_People_fully_vaccinated'],alpha=alpha,\n",
    "             marker = 'o', color = colors[i], label = fips, markersize = markersize)\n",
    "    axs[1,1].set_ylabel('RCPSR')\n",
    "    plt.text(0.01, 0.85, \"b2\", transform=axs[1,1].transAxes, fontstyle = 'italic')\n",
    "    axs[2,1].plot(pd.to_datetime(data_raw[data_raw['FIPS'] == fips]['Week_Mon']), \n",
    "             data_raw[data_raw['FIPS'] == fips]['Relative_Past_12_week_infections'],alpha=alpha,\n",
    "             marker = 'o', color = colors[i], label = fips, markersize = markersize)\n",
    "    axs[2,1].set_ylabel('RPI')\n",
    "    plt.text(0.01, 0.85, \"c2\", transform=axs[2,1].transAxes, fontstyle = 'italic')\n",
    "    axs[3,1].plot(pd.to_datetime(data_raw[data_raw['FIPS'] == fips]['Week_Mon']), \n",
    "             data_raw[data_raw['FIPS'] == fips]['Relative_GovernmentResponseIndex_Average'],alpha=alpha,\n",
    "             marker = 'o', color = colors[i], label = fips, markersize = markersize)\n",
    "    axs[3,1].set_ylabel('RGP')\n",
    "    plt.text(0.01, 0.85, \"d2\", transform=axs[3,1].transAxes, fontstyle = 'italic')\n",
    "    axs[4,1].plot(pd.to_datetime(data_raw[data_raw['FIPS'] == fips]['Week_Mon']), \n",
    "             data_raw[data_raw['FIPS'] == fips]['Relative_Weekly_testing'],alpha=alpha,\n",
    "             marker = 'o', color = colors[i], label = fips, markersize = markersize)\n",
    "    axs[4,1].set_ylabel('RWTR')\n",
    "    plt.text(0.01, 0.85, \"e2\", transform=axs[4,1].transAxes, fontstyle = 'italic')\n",
    "    axs[5,1].plot(pd.to_datetime(mobility[mobility['FIPS'] == fips]['Week_Mon']), \n",
    "             mobility[mobility['FIPS'] == fips]['Relative_University'],alpha=alpha,\n",
    "             marker = 'o', color = colors[i], label = fips, markersize = markersize)\n",
    "    axs[5,1].set_ylabel('RUV')\n",
    "    plt.text(0.01, 0.85, \"f2\", transform=axs[5,1].transAxes, fontstyle = 'italic')\n",
    "    axs[6,1].plot(pd.to_datetime(mobility[mobility['FIPS'] == fips]['Week_Mon']), \n",
    "             mobility[mobility['FIPS'] == fips]['Relative_gym'], alpha=alpha,\n",
    "             marker = 'o', color = colors[i], label = fips, markersize = markersize)\n",
    "    axs[6,1].set_ylabel('RGV')\n",
    "    plt.text(0.01, 0.85, \"g2\", transform=axs[6,1].transAxes, fontstyle = 'italic')\n",
    "    axs[7,1].plot(pd.to_datetime(mobility[mobility['FIPS'] == fips]['Week_Mon']), \n",
    "             mobility[mobility['FIPS'] == fips]['Relative_office_of_physician'], alpha=alpha,\n",
    "             marker = 'o', color = colors[i], label = fips, markersize = markersize)\n",
    "    axs[7,1].set_ylabel('RPV')\n",
    "    plt.text(0.01, 0.85, \"h2\", transform=axs[7,1].transAxes, fontstyle = 'italic')\n",
    "    i += 1\n",
    "plt.subplots_adjust(wspace=0.1, hspace=0) \n",
    "# plt.figlegend(labels, loc = 'lower center', ncol=5, labelspacing=0.)\n",
    "fig.legend(labels, loc='lower center', ncol=10)\n",
    "cols = ['Variables before transformation', 'Variables after transformation']\n",
    "for ax, col in zip(axs[0], cols):\n",
    "    ax.set_title(col)"
   ]
  },
  {
   "cell_type": "code",
   "execution_count": 13,
   "id": "0954cfed",
   "metadata": {},
   "outputs": [],
   "source": [
    "fig.savefig('/Users/hongrudu/Desktop/COVID_Vaccination_rate/figures/Appendix_figure_2.png',\n",
    "           dpi = 400, bbox_inches='tight')"
   ]
  },
  {
   "cell_type": "code",
   "execution_count": null,
   "id": "d141e7e2",
   "metadata": {},
   "outputs": [],
   "source": []
  }
 ],
 "metadata": {
  "kernelspec": {
   "display_name": "Python 3 (ipykernel)",
   "language": "python",
   "name": "python3"
  },
  "language_info": {
   "codemirror_mode": {
    "name": "ipython",
    "version": 3
   },
   "file_extension": ".py",
   "mimetype": "text/x-python",
   "name": "python",
   "nbconvert_exporter": "python",
   "pygments_lexer": "ipython3",
   "version": "3.9.17"
  }
 },
 "nbformat": 4,
 "nbformat_minor": 5
}
